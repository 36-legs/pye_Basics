{
 "cells": [
  {
   "cell_type": "markdown",
   "metadata": {},
   "source": [
    "pyecharts的绘图原理\n",
    "① 选择图表类型；\n",
    "② 声明图形类并添加数据；\n",
    "③ 选择全局变量；\n",
    "④ 显示及保存图表；"
   ]
  },
  {
   "cell_type": "markdown",
   "metadata": {},
   "source": [
    "第一步是选择图表类型"
   ]
  },
  {
   "cell_type": "code",
   "execution_count": 19,
   "metadata": {},
   "outputs": [],
   "source": [
    "from pyecharts.charts import Scatter  \n",
    "from pyecharts.charts import Line\n",
    "import pyecharts.options as opts\n",
    "import numpy as np "
   ]
  },
  {
   "cell_type": "markdown",
   "metadata": {},
   "source": [
    "第二步是声明图形类并添加数据\n",
    "第三步就是设置全局变量\n",
    "第四步是显示及保存图表\n",
    ".render(\"C:\\\\Users\\\\黄伟\\\\Desktop\\\\CSDN上传图像\\\\a.html\")  \n",
    "如果不指定路径，就是直接保存在当前工作环境目录下；  \n",
    "如果指定了路径，就是保存到指定的目录下；  \n",
    "注意：最终都是以html格式展示，发给其他任何人都可以直接打开看的；  \n",
    "\n",
    ".render_notebook()  \n",
    "如果我们使用的是jupyter notebook，直接使用这行代码，可以直接显示图片；"
   ]
  },
  {
   "cell_type": "code",
   "execution_count": 21,
   "metadata": {},
   "outputs": [
    {
     "data": {
      "text/plain": [
       "'d:\\\\Python\\\\VS_Pyecharts\\\\Basics\\\\A1.html'"
      ]
     },
     "execution_count": 21,
     "metadata": {},
     "output_type": "execute_result"
    }
   ],
   "source": [
    "x = np.linspace(0,2 * np.pi,100)  \n",
    "y = np.sin(x) \n",
    "\n",
    " # 注意：使用什么图形，就要实例化该图形的类； \n",
    " #是使用“链式调用”的方式绘图；\n",
    "(\n",
    "Line(init_opts=opts.InitOpts(width=\"700px\",height=\"300px\"))  \n",
    " .add_xaxis(xaxis_data=x)                                                                # 3.我们先给X轴添加数据；\n",
    " .add_yaxis(series_name=\"绘制线图\",y_axis=y,label_opts=opts.LabelOpts(is_show=False))   # 4.我们再给Y轴添加数据；series_name=\"\"参数必须有，可以为空，但不能不写\n",
    " .set_global_opts(title_opts=opts.TitleOpts(title=\"我是标题\",subtitle=\"我是副标题\",title_link=\"https://www.baidu.com/\"),  \n",
    "                  tooltip_opts=opts.TooltipOpts(axis_pointer_type=\"cross\"))  \n",
    "# ).render_notebook() \n",
    ").render('A1.html')"
   ]
  }
 ],
 "metadata": {
  "kernelspec": {
   "display_name": "Python 3.8.13 ('jupyter_py38')",
   "language": "python",
   "name": "python3"
  },
  "language_info": {
   "codemirror_mode": {
    "name": "ipython",
    "version": 3
   },
   "file_extension": ".py",
   "mimetype": "text/x-python",
   "name": "python",
   "nbconvert_exporter": "python",
   "pygments_lexer": "ipython3",
   "version": "3.8.13"
  },
  "orig_nbformat": 4,
  "vscode": {
   "interpreter": {
    "hash": "bc799802531c4525f4850c0b244469f283cdba2c7192436e5d183de3389fde13"
   }
  }
 },
 "nbformat": 4,
 "nbformat_minor": 2
}
