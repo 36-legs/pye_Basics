{
 "cells": [
  {
   "cell_type": "markdown",
   "metadata": {},
   "source": [
    "股票可视化分析之Pyecharts（一）"
   ]
  },
  {
   "cell_type": "markdown",
   "metadata": {},
   "source": [
    "导入模块"
   ]
  },
  {
   "cell_type": "code",
   "execution_count": 2,
   "metadata": {},
   "outputs": [],
   "source": [
    "#导入数据分析和量化常用库\n",
    "import pandas as pd\n",
    "import numpy as np\n",
    "import talib as ta\n",
    "import tushare as ts\n",
    "#导入pyecharts\n",
    "from pyecharts.charts import *\n",
    "from pyecharts import options as opts\n",
    "from pyecharts.commons.utils import JsCode\n",
    "from jupyterthemes import jtplot\n",
    "jtplot.style(theme='onedork')\n"
   ]
  },
  {
   "cell_type": "markdown",
   "metadata": {},
   "source": [
    "设置token"
   ]
  },
  {
   "cell_type": "code",
   "execution_count": 3,
   "metadata": {},
   "outputs": [],
   "source": [
    "token='c70a176ea90399a88c372b9c78ed2dad0363b7c3dd9b8a0010220e9d'\n",
    "ts.set_token(token)\n",
    "pro = ts.pro_api(token)"
   ]
  },
  {
   "cell_type": "markdown",
   "metadata": {},
   "source": [
    "折线图"
   ]
  },
  {
   "cell_type": "code",
   "execution_count": 4,
   "metadata": {},
   "outputs": [
    {
     "name": "stdout",
     "output_type": "stream",
     "text": [
      "本接口即将停止更新，请尽快使用Pro版接口：https://tushare.pro/document/2\n"
     ]
    },
    {
     "name": "stderr",
     "output_type": "stream",
     "text": [
      "c:\\Users\\Administrator\\miniconda3\\envs\\jupyter_py38\\lib\\site-packages\\tushare\\stock\\trading.py:706: FutureWarning: The frame.append method is deprecated and will be removed from pandas in a future version. Use pandas.concat instead.\n",
      "  data = data.append(_get_k_data(url, dataflag,\n",
      "c:\\Users\\Administrator\\miniconda3\\envs\\jupyter_py38\\lib\\site-packages\\tushare\\stock\\trading.py:706: FutureWarning: The frame.append method is deprecated and will be removed from pandas in a future version. Use pandas.concat instead.\n",
      "  data = data.append(_get_k_data(url, dataflag,\n",
      "c:\\Users\\Administrator\\miniconda3\\envs\\jupyter_py38\\lib\\site-packages\\tushare\\stock\\trading.py:706: FutureWarning: The frame.append method is deprecated and will be removed from pandas in a future version. Use pandas.concat instead.\n",
      "  data = data.append(_get_k_data(url, dataflag,\n",
      "c:\\Users\\Administrator\\miniconda3\\envs\\jupyter_py38\\lib\\site-packages\\tushare\\stock\\trading.py:706: FutureWarning: The frame.append method is deprecated and will be removed from pandas in a future version. Use pandas.concat instead.\n",
      "  data = data.append(_get_k_data(url, dataflag,\n",
      "c:\\Users\\Administrator\\miniconda3\\envs\\jupyter_py38\\lib\\site-packages\\tushare\\stock\\trading.py:706: FutureWarning: The frame.append method is deprecated and will be removed from pandas in a future version. Use pandas.concat instead.\n",
      "  data = data.append(_get_k_data(url, dataflag,\n",
      "c:\\Users\\Administrator\\miniconda3\\envs\\jupyter_py38\\lib\\site-packages\\tushare\\stock\\trading.py:706: FutureWarning: The frame.append method is deprecated and will be removed from pandas in a future version. Use pandas.concat instead.\n",
      "  data = data.append(_get_k_data(url, dataflag,\n",
      "c:\\Users\\Administrator\\miniconda3\\envs\\jupyter_py38\\lib\\site-packages\\tushare\\stock\\trading.py:706: FutureWarning: The frame.append method is deprecated and will be removed from pandas in a future version. Use pandas.concat instead.\n",
      "  data = data.append(_get_k_data(url, dataflag,\n",
      "c:\\Users\\Administrator\\miniconda3\\envs\\jupyter_py38\\lib\\site-packages\\tushare\\stock\\trading.py:706: FutureWarning: The frame.append method is deprecated and will be removed from pandas in a future version. Use pandas.concat instead.\n",
      "  data = data.append(_get_k_data(url, dataflag,\n"
     ]
    },
    {
     "name": "stdout",
     "output_type": "stream",
     "text": [
      "<urlopen error timed out>\n"
     ]
    },
    {
     "name": "stderr",
     "output_type": "stream",
     "text": [
      "c:\\Users\\Administrator\\miniconda3\\envs\\jupyter_py38\\lib\\site-packages\\tushare\\stock\\trading.py:706: FutureWarning: The frame.append method is deprecated and will be removed from pandas in a future version. Use pandas.concat instead.\n",
      "  data = data.append(_get_k_data(url, dataflag,\n",
      "c:\\Users\\Administrator\\miniconda3\\envs\\jupyter_py38\\lib\\site-packages\\tushare\\stock\\trading.py:706: FutureWarning: The frame.append method is deprecated and will be removed from pandas in a future version. Use pandas.concat instead.\n",
      "  data = data.append(_get_k_data(url, dataflag,\n",
      "c:\\Users\\Administrator\\miniconda3\\envs\\jupyter_py38\\lib\\site-packages\\tushare\\stock\\trading.py:706: FutureWarning: The frame.append method is deprecated and will be removed from pandas in a future version. Use pandas.concat instead.\n",
      "  data = data.append(_get_k_data(url, dataflag,\n",
      "c:\\Users\\Administrator\\miniconda3\\envs\\jupyter_py38\\lib\\site-packages\\tushare\\stock\\trading.py:706: FutureWarning: The frame.append method is deprecated and will be removed from pandas in a future version. Use pandas.concat instead.\n",
      "  data = data.append(_get_k_data(url, dataflag,\n"
     ]
    },
    {
     "data": {
      "text/plain": [
       "'d:\\\\Python\\\\VS_Pyecharts\\\\Basics\\\\render.html'"
      ]
     },
     "execution_count": 4,
     "metadata": {},
     "output_type": "execute_result"
    }
   ],
   "source": [
    "#股票数据可视化分析实例\n",
    "#获取A股交易数据\n",
    "def get_price(code='sh',start='2000-01-01',end='2022-06-12'):\n",
    "    df=ts.get_k_data(code,start,end)\n",
    "    # df=pro.daily(ts_code='sh', start_date=start, end_date=end)\n",
    "    df.index=pd.to_datetime(df.date)\n",
    "    #将成交量单位改为10000手并取整数\n",
    "    df['volume']=(df['volume']/10000).apply(int)\n",
    "    return df[['open','close','high','low','volume']]\n",
    "sh=get_price()\n",
    "#sh.head()\n",
    "\n",
    "g=(Line()\n",
    "  .add_xaxis(sh.index.strftime('%Y%m%d').tolist())\n",
    "  .add_yaxis('',sh.close))\n",
    "# g.render_notebook()\n",
    "g.render()"
   ]
  },
  {
   "cell_type": "markdown",
   "metadata": {},
   "source": [
    "添加全局和系列配置项"
   ]
  },
  {
   "cell_type": "code",
   "execution_count": 7,
   "metadata": {},
   "outputs": [
    {
     "data": {
      "text/plain": [
       "'d:\\\\Python\\\\VS_Pyecharts\\\\Basics\\\\上证图走势.html'"
      ]
     },
     "execution_count": 7,
     "metadata": {},
     "output_type": "execute_result"
    }
   ],
   "source": [
    "#不同点位设置不同颜色\n",
    "des=sh.close.describe()\n",
    "v1,v2,v3=np.ceil(des['25%']),np.ceil(des['50%']),np.ceil(des['75%'])\n",
    "pieces=[{\"min\": v3, \"color\": \"red\"},\n",
    "        {\"min\": v2, \"max\": v3, \"color\": \"blue\"},\n",
    "        {\"min\": v1, \"max\": v2, \"color\": \"black\"},\n",
    "        {\"max\": v1, \"color\": \"green\"},]\n",
    "#链式调用作用域()\n",
    "g = (\n",
    "    Line({'width':'100%','height':'480px'})#设置画布大小，px像素\n",
    "    .add_xaxis(xaxis_data=sh.index.strftime('%Y%m%d').tolist())#x数据\n",
    "    .add_yaxis(\n",
    "        series_name=\"\",#序列名称\n",
    "        y_axis=sh.close.values.tolist(),#添加y数据\n",
    "        is_smooth=True, #平滑曲线\n",
    "        is_symbol_show=False,#不显示折线的小圆圈\n",
    "        label_opts=opts.LabelOpts(is_show=False),\n",
    "        linestyle_opts=opts.LineStyleOpts(width=2),#线宽\n",
    "        markpoint_opts=opts.MarkPointOpts(data=[#添加标记符\n",
    "               opts.MarkPointItem(type_='max', name='最大值'),\n",
    "               opts.MarkPointItem(type_='min', name='最小值'),],symbol_size=[100,30]),\n",
    "        markline_opts=opts.MarkLineOpts(#添加均值辅助性\n",
    "                data=[opts.MarkLineItem(type_=\"average\")], ))\n",
    "    .set_global_opts(#全局参数设置\n",
    "        title_opts=opts.TitleOpts(title='上证指数走势', subtitle='2000年-2022年',pos_left='center'),\n",
    "        tooltip_opts=opts.TooltipOpts(trigger=\"axis\", axis_pointer_type=\"cross\"),\n",
    "        visualmap_opts=opts.VisualMapOpts(#视觉映射配置\n",
    "            orient = \"horizontal\",split_number = 4,\n",
    "            pos_left='center',is_piecewise=True,\n",
    "            pieces=pieces,),)\n",
    "    .set_series_opts(\n",
    "        markarea_opts=opts.MarkAreaOpts(#标记区域配置项\n",
    "            data=[\n",
    "                opts.MarkAreaItem(name=\"牛市\", x=(\"20050606\", \"20071016\"),itemstyle_opts=opts.ItemStyleOpts(color='#00ccff',opacity=80)),\n",
    "                opts.MarkAreaItem(name=\"熊市\", x=(\"20071016\", \"20081029\"),itemstyle_opts=opts.ItemStyleOpts(color='#99ccff',opacity=80)),\n",
    "                opts.MarkAreaItem(name=\"牛市\", x=(\"20140312\", \"20150612\")),],\n",
    "                                        )\n",
    "                    )\n",
    "    )\n",
    "#使用jupyter notebook显示图形\n",
    "# g.render_notebook()\n",
    "g.render('上证图走势.html')"
   ]
  }
 ],
 "metadata": {
  "kernelspec": {
   "display_name": "Python 3.8.13 ('jupyter_py38')",
   "language": "python",
   "name": "python3"
  },
  "language_info": {
   "codemirror_mode": {
    "name": "ipython",
    "version": 3
   },
   "file_extension": ".py",
   "mimetype": "text/x-python",
   "name": "python",
   "nbconvert_exporter": "python",
   "pygments_lexer": "ipython3",
   "version": "3.8.13"
  },
  "orig_nbformat": 4,
  "vscode": {
   "interpreter": {
    "hash": "bc799802531c4525f4850c0b244469f283cdba2c7192436e5d183de3389fde13"
   }
  }
 },
 "nbformat": 4,
 "nbformat_minor": 2
}
