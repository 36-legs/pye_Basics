{
 "cells": [
  {
   "cell_type": "markdown",
   "metadata": {},
   "source": [
    "Python Map"
   ]
  },
  {
   "cell_type": "code",
   "execution_count": 82,
   "metadata": {},
   "outputs": [],
   "source": [
    "import pandas as pd\n",
    "from pyecharts.charts import Map\n",
    "from pyecharts import options as opts\n",
    "from pyecharts.globals import ThemeType, CurrentConfig"
   ]
  },
  {
   "cell_type": "code",
   "execution_count": 83,
   "metadata": {},
   "outputs": [
    {
     "name": "stdout",
     "output_type": "stream",
     "text": [
      "United States    13608\n",
      "China             2734\n",
      "Canada            1468\n",
      "Japan             1237\n",
      "KR                 993\n",
      "                 ...  \n",
      "CW                   3\n",
      "AW                   3\n",
      "MC                   2\n",
      "LU                   2\n",
      "AD                   1\n",
      "Name: Country, Length: 73, dtype: int64\n",
      "[('United States', 13608), ('China', 2734), ('Canada', 1468), ('Japan', 1237), ('KR', 993), ('GB', 901), ('MX', 579), ('TW', 394), ('TR', 326), ('PH', 298), ('TH', 289), ('ID', 268), ('MY', 234), ('DE', 160), ('AE', 144), ('FR', 132), ('SG', 130), ('RU', 109), ('AR', 108), ('KW', 106), ('BR', 102), ('SA', 102), ('ES', 101), ('CL', 96), ('PE', 89), ('IN', 88), ('IE', 73), ('CH', 61), ('NL', 59), ('PL', 53), ('EG', 31), ('LB', 29), ('CZ', 28), ('GR', 28), ('RO', 27), ('VN', 25), ('NZ', 24), ('PR', 24), ('AU', 22), ('BH', 21), ('DK', 21), ('BE', 19), ('AT', 18), ('SE', 18), ('QA', 18), ('NO', 17), ('JO', 17), ('HU', 16), ('OM', 12), ('SV', 11), ('PT', 11), ('CO', 11), ('CR', 11), ('BS', 10), ('CY', 10), ('MA', 9), ('FI', 8), ('KZ', 8), ('GT', 7), ('PA', 5), ('BN', 5), ('BG', 5), ('KH', 4), ('BO', 4), ('AZ', 4), ('TT', 3), ('ZA', 3), ('SK', 3), ('CW', 3), ('AW', 3), ('MC', 2), ('LU', 2), ('AD', 1)]\n"
     ]
    }
   ],
   "source": [
    "# df=pd.read_csv(r\"D:\\Python\\VS_Pyecharts\\pye_Basics\\startbucks.csv\")\n",
    "# df.head()\n",
    "df0=pd.read_csv(r\"D:\\Python\\VS_Pyecharts\\pye_Basics\\directory.csv\")\n",
    "df0.replace({'US':'United States','CN':'China','CA':'Canada','JP':'Japan'},inplace=True)\n",
    "# df0.head()\n",
    "df=df0['Country']\n",
    "data = df.value_counts()\n",
    "print(data)\n",
    "datas = [(i, int(j)) for i, j in zip(data.index, data.values)]\n",
    "print(datas)"
   ]
  },
  {
   "cell_type": "code",
   "execution_count": 84,
   "metadata": {},
   "outputs": [
    {
     "data": {
      "text/plain": [
       "'d:\\\\Python\\\\VS_Pyecharts\\\\pye_Basics\\\\星巴克门店在全球的分布.html'"
      ]
     },
     "execution_count": 84,
     "metadata": {},
     "output_type": "execute_result"
    }
   ],
   "source": [
    "# 实例化一个Map对象\n",
    "map_ = Map(init_opts=opts.InitOpts(theme=ThemeType.PURPLE_PASSION))\n",
    "# 世界地图\n",
    "map_.add(series_name=\"门店数量\", data_pair=datas, maptype=\"world\")\n",
    "\n",
    "# 设置系列配置项\n",
    "map_.set_series_opts(label_opts=opts.LabelOpts(is_show=False))   # 不显示label\n",
    "# 设置全局配置项\n",
    "map_.set_global_opts(\n",
    "     title_opts=opts.TitleOpts(title=\"星巴克门店数量在全球分布\", \n",
    "                               pos_left='40%', \n",
    "                               pos_top='10'),   # 调整title位置\n",
    "     legend_opts=opts.LegendOpts(is_show=False),\n",
    "     visualmap_opts=opts.VisualMapOpts(\n",
    "         max_=13608, \n",
    "         min_=1, \n",
    "         is_piecewise=True,\n",
    "       pieces=[{\"max\": 9, \"min\": 1, \"label\": \"1-9\", \"color\": \"#00FFFF\"},\n",
    "                 {\"max\": 99, \"min\": 10, \"label\": \"10-99\", \"color\": \"#FF69B4\"},\n",
    "                 {\"max\": 499, \"min\": 100, \"label\": \"100-499\", \"color\": \"#0000FF\"},\n",
    "                 {\"max\": 999, \"min\": 500, \"label\": \"500-999\", \"color\": \"#00BFFF\"},\n",
    "                 {\"max\": 2000, \"min\": 1000, \"label\": \"1000-2000\", \"color\": \"#228B22\"},\n",
    "                 {\"max\": 3000, \"min\": 2000, \"label\": \"2000-3000\", \"color\": \"#FF0000\"},\n",
    "                 {\"max\": 20000, \"min\": 10000, \"label\": \">=10000\", \"color\": \"#FFD700\"}\n",
    "                ] # 分段  添加图例注释和颜色\n",
    "     )\n",
    ")\n",
    "# 渲染在网页上   有交互性\n",
    "map_.render('星巴克门店在全球的分布.html')"
   ]
  }
 ],
 "metadata": {
  "kernelspec": {
   "display_name": "Python 3.8.13 ('jupyter_py38')",
   "language": "python",
   "name": "python3"
  },
  "language_info": {
   "codemirror_mode": {
    "name": "ipython",
    "version": 3
   },
   "file_extension": ".py",
   "mimetype": "text/x-python",
   "name": "python",
   "nbconvert_exporter": "python",
   "pygments_lexer": "ipython3",
   "version": "3.8.13"
  },
  "orig_nbformat": 4,
  "vscode": {
   "interpreter": {
    "hash": "bc799802531c4525f4850c0b244469f283cdba2c7192436e5d183de3389fde13"
   }
  }
 },
 "nbformat": 4,
 "nbformat_minor": 2
}
